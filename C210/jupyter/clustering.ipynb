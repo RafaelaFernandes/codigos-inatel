{
 "cells": [
  {
   "cell_type": "markdown",
   "metadata": {},
   "source": [
    "# C210 - Exemplo de Agrupamento"
   ]
  },
  {
   "cell_type": "markdown",
   "metadata": {},
   "source": [
    "### Geradores de dados disponíveis no SKL:\n",
    "https://scikit-learn.org/stable/datasets/index.html#sample-generators"
   ]
  },
  {
   "cell_type": "code",
   "execution_count": null,
   "metadata": {},
   "outputs": [],
   "source": [
    "# criacao de um dataset artificial\n",
    "from sklearn.datasets import make_blobs\n",
    "X, y = make_blobs(n_samples=300, n_features=2, centers=3, cluster_std=0.5, shuffle=True, random_state=0)"
   ]
  },
  {
   "cell_type": "code",
   "execution_count": null,
   "metadata": {},
   "outputs": [],
   "source": [
    "# visualizacao do dataset recem criado\n",
    "import matplotlib.pyplot as plt\n",
    "plt.rcParams['figure.dpi'] = 200\n",
    "plt.scatter(X[:, 0], X[:, 1], c='white', marker='o', edgecolor='black', s=50)\n",
    "plt.show()"
   ]
  },
  {
   "cell_type": "markdown",
   "metadata": {},
   "source": [
    "### Modelos de aprendizado não-supervisionado (ex.: agrupamento) disponíveis no SKL:\n",
    "https://scikit-learn.org/stable/unsupervised_learning.html"
   ]
  },
  {
   "cell_type": "code",
   "execution_count": null,
   "metadata": {},
   "outputs": [],
   "source": [
    "# importacao, criacao e treinamento do agrupador\n",
    "from sklearn.cluster import KMeans\n",
    "km = KMeans(n_clusters=3, init='random', n_init=10, max_iter=300, tol=1e-04, random_state=0)\n",
    "y_km = km.fit_predict(X)"
   ]
  },
  {
   "cell_type": "code",
   "execution_count": null,
   "metadata": {},
   "outputs": [],
   "source": [
    "# visualizacao dos clusters e dos centroides\n",
    "plt.scatter(X[y_km == 0, 0], X[y_km == 0, 1], s=50, c='lightgreen', marker='s', edgecolor='black', label='cluster 1')\n",
    "plt.scatter(X[y_km == 1, 0], X[y_km == 1, 1], s=50, c='orange', marker='o', edgecolor='black', label='cluster 2')\n",
    "plt.scatter(X[y_km == 2, 0], X[y_km == 2, 1], s=50, c='lightblue', marker='v', edgecolor='black', label='cluster 3')\n",
    "plt.scatter(km.cluster_centers_[:, 0], km.cluster_centers_[:, 1], s=250, marker='*', c='red', edgecolor='black', label='centroids')\n",
    "plt.legend(scatterpoints=1)\n",
    "plt.grid()\n",
    "plt.show()"
   ]
  },
  {
   "cell_type": "markdown",
   "metadata": {},
   "source": [
    "### Métricas de agrupamento disponíveis no SKL:\n",
    "https://scikit-learn.org/stable/modules/classes.html#clustering-metrics"
   ]
  },
  {
   "cell_type": "code",
   "execution_count": null,
   "metadata": {},
   "outputs": [],
   "source": [
    "# metricas para avaliacao do modelo\n",
    "from sklearn.metrics import calinski_harabasz_score, silhouette_score\n",
    "print('Calinski-Harabasz score: %.2f' % calinski_harabasz_score(X, km.labels_))\n",
    "print('Silhouette score: %.2f' % silhouette_score(X, km.labels_))"
   ]
  },
  {
   "cell_type": "markdown",
   "metadata": {},
   "source": [
    "##### Referências:\n",
    "https://towardsdatascience.com/k-means-clustering-with-scikit-learn-6b47a369a83c"
   ]
  }
 ],
 "metadata": {
  "kernelspec": {
   "display_name": "Python 3",
   "language": "python",
   "name": "python3"
  },
  "language_info": {
   "codemirror_mode": {
    "name": "ipython",
    "version": 3
   },
   "file_extension": ".py",
   "mimetype": "text/x-python",
   "name": "python",
   "nbconvert_exporter": "python",
   "pygments_lexer": "ipython3",
   "version": "3.7.4"
  }
 },
 "nbformat": 4,
 "nbformat_minor": 2
}
